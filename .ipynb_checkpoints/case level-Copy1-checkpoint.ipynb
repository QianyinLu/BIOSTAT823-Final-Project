{
 "cells": [
  {
   "cell_type": "code",
   "execution_count": 1,
   "metadata": {},
   "outputs": [],
   "source": [
    "import numpy as np\n",
    "import pandas as pd\n",
    "import math\n",
    "import seaborn as sns\n",
    "import warnings\n",
    "\n",
    "warnings.simplefilter(\"ignore\", DeprecationWarning)"
   ]
  },
  {
   "cell_type": "code",
   "execution_count": 2,
   "metadata": {},
   "outputs": [],
   "source": [
    "case = pd.read_csv(\"data/data/covid_19.csv\")\n",
    "hos1 = pd.read_csv(\"data/data/hospital1.csv\").iloc[:, 1:]\n"
   ]
  },
  {
   "cell_type": "code",
   "execution_count": 3,
   "metadata": {},
   "outputs": [],
   "source": [
    "case[\"submission_date\"] = case[\"submission_date\"].astype(\"datetime64\")\n",
    "case = case.loc[:, [\"submission_date\", \"state\", \"tot_cases\", \"new_case\"]]\n",
    "case[\"lag_date\"] = case[\"submission_date\"].shift(1)"
   ]
  },
  {
   "cell_type": "code",
   "execution_count": 4,
   "metadata": {},
   "outputs": [],
   "source": [
    "join = pd.merge(case, case, how=\"left\", left_on = [\"submission_date\", \"state\"], right_on = [\"lag_date\", \"state\"])\n",
    "join[\"inc_rate\"] = join[\"new_case_y\"] / join[\"tot_cases_x\"] \n",
    "join = join.fillna(0)"
   ]
  },
  {
   "cell_type": "code",
   "execution_count": 5,
   "metadata": {},
   "outputs": [],
   "source": [
    "def helper1(state):\n",
    "    tmp = join[join[\"state\"] == state].reset_index(drop=True)\n",
    "    inf_ind = np.where(tmp.inc_rate==math.inf)[0]\n",
    "    return tmp.loc[inf_ind[0]+1:, [\"submission_date_x\", \"state\", \"inc_rate\"]] if inf_ind else tmp.loc[:, [\"submission_date_x\", \"state\", \"inc_rate\"]]\n",
    "    \n",
    "case_ = pd.concat([helper1(x) for x in np.unique(join[\"state\"])],axis=0).reset_index(drop=True)\n",
    "case_.columns = [\"date\", \"state\", \"inc_rate\"]"
   ]
  },
  {
   "cell_type": "code",
   "execution_count": 6,
   "metadata": {},
   "outputs": [
    {
     "name": "stderr",
     "output_type": "stream",
     "text": [
      "<ipython-input-6-d6b4b7b9cd72>:5: SettingWithCopyWarning: \n",
      "A value is trying to be set on a copy of a slice from a DataFrame.\n",
      "Try using .loc[row_indexer,col_indexer] = value instead\n",
      "\n",
      "See the caveats in the documentation: https://pandas.pydata.org/pandas-docs/stable/user_guide/indexing.html#returning-a-view-versus-a-copy\n",
      "  tmp[varname] = tmp[\"inc_rate\"].shift(i)\n"
     ]
    }
   ],
   "source": [
    "def helper2(state, shift=1):\n",
    "    tmp = case_[case_[\"state\"] == state]\n",
    "    for i in range(1, shift+1):\n",
    "        varname = \"lag_\" + str(i)\n",
    "        tmp[varname] = tmp[\"inc_rate\"].shift(i)\n",
    "    return tmp\n",
    "\n",
    "data = pd.concat([helper2(x, shift=7) for x in np.unique(join[\"state\"])],axis=0).dropna().reset_index(drop=True)"
   ]
  },
  {
   "cell_type": "code",
   "execution_count": 7,
   "metadata": {},
   "outputs": [],
   "source": [
    "hos2 = pd.read_csv(\"data/data/hospital2.csv\")\n",
    "d = {\"APR\": 4, \"MAY\": 5, \"JUN\": 6, \"JUL\": 7}\n",
    "hos2[\"month\"] = hos2[[\"month\"]].applymap(lambda x: d[x])\n",
    "hos2[\"date\"] = pd.to_datetime(hos2[['year', 'day', 'month']]) # concat date\n",
    "hos2 = hos2.filter([\"date\", \"state\"] + hos2.columns[hos2.columns.str.contains(\"Est\")].to_list(), axis=1)\n",
    "\n",
    "var_list = [\"InpatBeds_Occ_AnyPat_Est\", \"InpatBeds_Occ_AnyPat_Est_Avail\", \"InpatBeds_Occ_COVID_Est\", \"ICUBeds_Occ_AnyPat_Est\", \"ICUBeds_Occ_AnyPat_Est_Avail\"]\n",
    "\n",
    "for var in var_list: ## log-scale the discrete variables \n",
    "    hos2[\"Log_\"+var] = np.log(hos2[var]+1)\n",
    "    hos2 = hos2.drop(var, axis=1)"
   ]
  },
  {
   "cell_type": "code",
   "execution_count": 8,
   "metadata": {},
   "outputs": [],
   "source": [
    "case_hos = pd.merge(data, hos2, how='inner', on=['state', 'date'])"
   ]
  },
  {
   "cell_type": "code",
   "execution_count": 9,
   "metadata": {},
   "outputs": [
    {
     "name": "stdout",
     "output_type": "stream",
     "text": [
      "(3062, 15) (1872, 15) (3062,) (1872,)\n"
     ]
    }
   ],
   "source": [
    "from sklearn.ensemble import RandomForestRegressor\n",
    "from sklearn.model_selection import train_test_split\n",
    "\n",
    "X = case_hos.iloc[:, 3:]\n",
    "y = case_hos.iloc[:, 2]\n",
    "\n",
    "idx_train = case_hos[\"date\"] <= \"2020-06-01\"\n",
    "idx_test = case_hos[\"date\"] > \"2020-06-01\"\n",
    "\n",
    "columns = X.columns\n",
    "\n",
    "X_train = X.loc[idx_train, :]\n",
    "X_test = X.loc[idx_test, :]\n",
    "y_train = y[idx_train]\n",
    "y_test = y[idx_test]\n",
    "\n",
    "print(X_train.shape, X_test.shape, y_train.shape, y_test.shape)"
   ]
  },
  {
   "cell_type": "code",
   "execution_count": 10,
   "metadata": {},
   "outputs": [],
   "source": [
    "from sklearn.preprocessing import StandardScaler\n",
    "\n",
    "ss = StandardScaler()\n",
    "\n",
    "ss.fit(X_train)\n",
    "X_train = ss.transform(X_train)\n",
    "X_test = ss.transform(X_test)"
   ]
  },
  {
   "cell_type": "code",
   "execution_count": 11,
   "metadata": {},
   "outputs": [
    {
     "name": "stdout",
     "output_type": "stream",
     "text": [
      "0.010970610196767766\n",
      "0.011005563873543114\n"
     ]
    }
   ],
   "source": [
    "def rmse(y, y_pred):\n",
    "    return np.sqrt(((y-y_pred)**2).mean())\n",
    "\n",
    "rf = RandomForestRegressor()\n",
    "rf.fit(X_train, y_train)\n",
    "print(rmse(rf.predict(X_train), y_train))\n",
    "print(rmse(rf.predict(X_test), y_test))"
   ]
  },
  {
   "cell_type": "code",
   "execution_count": 12,
   "metadata": {},
   "outputs": [
    {
     "name": "stderr",
     "output_type": "stream",
     "text": [
      "c:\\program files\\python38\\lib\\site-packages\\seaborn\\_decorators.py:36: FutureWarning: Pass the following variables as keyword args: x, y. From version 0.12, the only valid positional argument will be `data`, and passing other arguments without an explicit keyword will result in an error or misinterpretation.\n",
      "  warnings.warn(\n"
     ]
    },
    {
     "data": {
      "image/png": "[encoded data removed]",
      "text/plain": [
       "<Figure size 432x288 with 1 Axes>"
      ]
     },
     "metadata": {
      "needs_background": "light"
     },
     "output_type": "display_data"
    }
   ],
   "source": [
    "from sklearn.inspection import permutation_importance\n",
    "importances = permutation_importance(rf, X_train, y_train)\n",
    "\n",
    "idx = np.argsort(-importances['importances_mean'])[7:]\n",
    "sns.barplot(importances['importances_mean'][idx], columns[idx]);"
   ]
  },
  {
   "cell_type": "code",
   "execution_count": 146,
   "metadata": {},
   "outputs": [
    {
     "data": {
      "text/html": [
       "<div>\n",
       "<style scoped>\n",
       "    .dataframe tbody tr th:only-of-type {\n",
       "        vertical-align: middle;\n",
       "    }\n",
       "\n",
       "    .dataframe tbody tr th {\n",
       "        vertical-align: top;\n",
       "    }\n",
       "\n",
       "    .dataframe thead th {\n",
       "        text-align: right;\n",
       "    }\n",
       "</style>\n",
       "<table border=\"1\" class=\"dataframe\">\n",
       "  <thead>\n",
       "    <tr style=\"text-align: right;\">\n",
       "      <th></th>\n",
       "      <th>date</th>\n",
       "      <th>state</th>\n",
       "      <th>inc_rate</th>\n",
       "      <th>lag_1</th>\n",
       "      <th>InBedsOccAnyPat__Numbeds_Est</th>\n",
       "      <th>InBedsOccCOVID__Numbeds_Est</th>\n",
       "      <th>ICUBedsOccAnyPat__N_ICUBeds_Est</th>\n",
       "      <th>Log_InpatBeds_Occ_AnyPat_Est</th>\n",
       "      <th>Log_InpatBeds_Occ_AnyPat_Est_Avail</th>\n",
       "      <th>Log_InpatBeds_Occ_COVID_Est</th>\n",
       "      <th>Log_ICUBeds_Occ_AnyPat_Est</th>\n",
       "      <th>Log_ICUBeds_Occ_AnyPat_Est_Avail</th>\n",
       "    </tr>\n",
       "  </thead>\n",
       "  <tbody>\n",
       "    <tr>\n",
       "      <th>0</th>\n",
       "      <td>2020-04-01</td>\n",
       "      <td>AK</td>\n",
       "      <td>0.027972</td>\n",
       "      <td>0.075188</td>\n",
       "      <td>57.6</td>\n",
       "      <td>4.3</td>\n",
       "      <td>54.7</td>\n",
       "      <td>6.278521</td>\n",
       "      <td>5.973810</td>\n",
       "      <td>3.713572</td>\n",
       "      <td>4.418841</td>\n",
       "      <td>4.234107</td>\n",
       "    </tr>\n",
       "    <tr>\n",
       "      <th>1</th>\n",
       "      <td>2020-04-02</td>\n",
       "      <td>AK</td>\n",
       "      <td>0.068027</td>\n",
       "      <td>0.027972</td>\n",
       "      <td>56.7</td>\n",
       "      <td>5.6</td>\n",
       "      <td>48.0</td>\n",
       "      <td>6.263398</td>\n",
       "      <td>5.993961</td>\n",
       "      <td>3.970292</td>\n",
       "      <td>4.290459</td>\n",
       "      <td>4.369448</td>\n",
       "    </tr>\n",
       "    <tr>\n",
       "      <th>2</th>\n",
       "      <td>2020-04-03</td>\n",
       "      <td>AK</td>\n",
       "      <td>0.089172</td>\n",
       "      <td>0.068027</td>\n",
       "      <td>55.2</td>\n",
       "      <td>5.2</td>\n",
       "      <td>42.7</td>\n",
       "      <td>6.236370</td>\n",
       "      <td>6.028279</td>\n",
       "      <td>3.891820</td>\n",
       "      <td>4.174387</td>\n",
       "      <td>4.465908</td>\n",
       "    </tr>\n",
       "    <tr>\n",
       "      <th>3</th>\n",
       "      <td>2020-04-04</td>\n",
       "      <td>AK</td>\n",
       "      <td>0.081871</td>\n",
       "      <td>0.089172</td>\n",
       "      <td>49.0</td>\n",
       "      <td>2.6</td>\n",
       "      <td>44.7</td>\n",
       "      <td>6.398595</td>\n",
       "      <td>6.439350</td>\n",
       "      <td>3.496508</td>\n",
       "      <td>4.304065</td>\n",
       "      <td>4.521789</td>\n",
       "    </tr>\n",
       "    <tr>\n",
       "      <th>4</th>\n",
       "      <td>2020-04-05</td>\n",
       "      <td>AK</td>\n",
       "      <td>0.032432</td>\n",
       "      <td>0.081871</td>\n",
       "      <td>48.5</td>\n",
       "      <td>3.9</td>\n",
       "      <td>51.8</td>\n",
       "      <td>6.388561</td>\n",
       "      <td>6.448889</td>\n",
       "      <td>3.912023</td>\n",
       "      <td>4.454347</td>\n",
       "      <td>4.382027</td>\n",
       "    </tr>\n",
       "    <tr>\n",
       "      <th>...</th>\n",
       "      <td>...</td>\n",
       "      <td>...</td>\n",
       "      <td>...</td>\n",
       "      <td>...</td>\n",
       "      <td>...</td>\n",
       "      <td>...</td>\n",
       "      <td>...</td>\n",
       "      <td>...</td>\n",
       "      <td>...</td>\n",
       "      <td>...</td>\n",
       "      <td>...</td>\n",
       "      <td>...</td>\n",
       "    </tr>\n",
       "    <tr>\n",
       "      <th>4929</th>\n",
       "      <td>2020-07-03</td>\n",
       "      <td>WY</td>\n",
       "      <td>0.015171</td>\n",
       "      <td>0.020645</td>\n",
       "      <td>47.0</td>\n",
       "      <td>1.5</td>\n",
       "      <td>90.3</td>\n",
       "      <td>6.075346</td>\n",
       "      <td>6.194405</td>\n",
       "      <td>2.708050</td>\n",
       "      <td>4.060443</td>\n",
       "      <td>1.945910</td>\n",
       "    </tr>\n",
       "    <tr>\n",
       "      <th>4930</th>\n",
       "      <td>2020-07-04</td>\n",
       "      <td>WY</td>\n",
       "      <td>0.017435</td>\n",
       "      <td>0.015171</td>\n",
       "      <td>48.7</td>\n",
       "      <td>1.3</td>\n",
       "      <td>85.7</td>\n",
       "      <td>6.111467</td>\n",
       "      <td>6.165418</td>\n",
       "      <td>2.564949</td>\n",
       "      <td>4.007333</td>\n",
       "      <td>2.302585</td>\n",
       "    </tr>\n",
       "    <tr>\n",
       "      <th>4931</th>\n",
       "      <td>2020-07-05</td>\n",
       "      <td>WY</td>\n",
       "      <td>0.025092</td>\n",
       "      <td>0.017435</td>\n",
       "      <td>47.0</td>\n",
       "      <td>1.5</td>\n",
       "      <td>65.7</td>\n",
       "      <td>6.084499</td>\n",
       "      <td>6.204558</td>\n",
       "      <td>2.708050</td>\n",
       "      <td>3.737670</td>\n",
       "      <td>3.091042</td>\n",
       "    </tr>\n",
       "    <tr>\n",
       "      <th>4932</th>\n",
       "      <td>2020-07-06</td>\n",
       "      <td>WY</td>\n",
       "      <td>0.021493</td>\n",
       "      <td>0.025092</td>\n",
       "      <td>44.3</td>\n",
       "      <td>2.0</td>\n",
       "      <td>67.7</td>\n",
       "      <td>6.013715</td>\n",
       "      <td>6.244167</td>\n",
       "      <td>2.944439</td>\n",
       "      <td>3.761200</td>\n",
       "      <td>3.091042</td>\n",
       "    </tr>\n",
       "    <tr>\n",
       "      <th>4933</th>\n",
       "      <td>2020-07-07</td>\n",
       "      <td>WY</td>\n",
       "      <td>0.016949</td>\n",
       "      <td>0.021493</td>\n",
       "      <td>44.2</td>\n",
       "      <td>1.7</td>\n",
       "      <td>64.2</td>\n",
       "      <td>6.013715</td>\n",
       "      <td>6.246107</td>\n",
       "      <td>2.833213</td>\n",
       "      <td>3.713572</td>\n",
       "      <td>3.178054</td>\n",
       "    </tr>\n",
       "  </tbody>\n",
       "</table>\n",
       "<p>4934 rows × 12 columns</p>\n",
       "</div>"
      ],
      "text/plain": [
       "           date state  inc_rate     lag_1  InBedsOccAnyPat__Numbeds_Est  \\\n",
       "0    2020-04-01    AK  0.027972  0.075188                          57.6   \n",
       "1    2020-04-02    AK  0.068027  0.027972                          56.7   \n",
       "2    2020-04-03    AK  0.089172  0.068027                          55.2   \n",
       "3    2020-04-04    AK  0.081871  0.089172                          49.0   \n",
       "4    2020-04-05    AK  0.032432  0.081871                          48.5   \n",
       "...         ...   ...       ...       ...                           ...   \n",
       "4929 2020-07-03    WY  0.015171  0.020645                          47.0   \n",
       "4930 2020-07-04    WY  0.017435  0.015171                          48.7   \n",
       "4931 2020-07-05    WY  0.025092  0.017435                          47.0   \n",
       "4932 2020-07-06    WY  0.021493  0.025092                          44.3   \n",
       "4933 2020-07-07    WY  0.016949  0.021493                          44.2   \n",
       "\n",
       "      InBedsOccCOVID__Numbeds_Est  ICUBedsOccAnyPat__N_ICUBeds_Est  \\\n",
       "0                             4.3                             54.7   \n",
       "1                             5.6                             48.0   \n",
       "2                             5.2                             42.7   \n",
       "3                             2.6                             44.7   \n",
       "4                             3.9                             51.8   \n",
       "...                           ...                              ...   \n",
       "4929                          1.5                             90.3   \n",
       "4930                          1.3                             85.7   \n",
       "4931                          1.5                             65.7   \n",
       "4932                          2.0                             67.7   \n",
       "4933                          1.7                             64.2   \n",
       "\n",
       "      Log_InpatBeds_Occ_AnyPat_Est  Log_InpatBeds_Occ_AnyPat_Est_Avail  \\\n",
       "0                         6.278521                            5.973810   \n",
       "1                         6.263398                            5.993961   \n",
       "2                         6.236370                            6.028279   \n",
       "3                         6.398595                            6.439350   \n",
       "4                         6.388561                            6.448889   \n",
       "...                            ...                                 ...   \n",
       "4929                      6.075346                            6.194405   \n",
       "4930                      6.111467                            6.165418   \n",
       "4931                      6.084499                            6.204558   \n",
       "4932                      6.013715                            6.244167   \n",
       "4933                      6.013715                            6.246107   \n",
       "\n",
       "      Log_InpatBeds_Occ_COVID_Est  Log_ICUBeds_Occ_AnyPat_Est  \\\n",
       "0                        3.713572                    4.418841   \n",
       "1                        3.970292                    4.290459   \n",
       "2                        3.891820                    4.174387   \n",
       "3                        3.496508                    4.304065   \n",
       "4                        3.912023                    4.454347   \n",
       "...                           ...                         ...   \n",
       "4929                     2.708050                    4.060443   \n",
       "4930                     2.564949                    4.007333   \n",
       "4931                     2.708050                    3.737670   \n",
       "4932                     2.944439                    3.761200   \n",
       "4933                     2.833213                    3.713572   \n",
       "\n",
       "      Log_ICUBeds_Occ_AnyPat_Est_Avail  \n",
       "0                             4.234107  \n",
       "1                             4.369448  \n",
       "2                             4.465908  \n",
       "3                             4.521789  \n",
       "4                             4.382027  \n",
       "...                                ...  \n",
       "4929                          1.945910  \n",
       "4930                          2.302585  \n",
       "4931                          3.091042  \n",
       "4932                          3.091042  \n",
       "4933                          3.178054  \n",
       "\n",
       "[4934 rows x 12 columns]"
      ]
     },
     "execution_count": 146,
     "metadata": {},
     "output_type": "execute_result"
    }
   ],
   "source": [
    "case_hos"
   ]
  },
  {
   "cell_type": "code",
   "execution_count": null,
   "metadata": {},
   "outputs": [],
   "source": []
  }
 ],
 "metadata": {
  "kernelspec": {
   "display_name": "Python 3",
   "language": "python",
   "name": "python3"
  },
  "language_info": {
   "codemirror_mode": {
    "name": "ipython",
    "version": 3
   },
   "file_extension": ".py",
   "mimetype": "text/x-python",
   "name": "python",
   "nbconvert_exporter": "python",
   "pygments_lexer": "ipython3",
   "version": "3.8.5"
  }
 },
 "nbformat": 4,
 "nbformat_minor": 4
}
