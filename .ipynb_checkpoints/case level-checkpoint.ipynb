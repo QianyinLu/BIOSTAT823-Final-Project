{
 "cells": [
  {
   "cell_type": "code",
   "execution_count": 27,
   "metadata": {},
   "outputs": [],
   "source": [
    "import numpy as np\n",
    "import pandas as pd\n",
    "import math"
   ]
  },
  {
   "cell_type": "code",
   "execution_count": 7,
   "metadata": {},
   "outputs": [],
   "source": [
    "case = pd.read_csv(\"data/data/covid_19.csv\")\n",
    "hos1 = pd.read_csv(\"data/data/hospital1.csv\")\n",
    "hos2 = pd.read_csv(\"data/data/hospital2.csv\")"
   ]
  },
  {
   "cell_type": "code",
   "execution_count": 14,
   "metadata": {},
   "outputs": [],
   "source": [
    "case[\"submission_date\"] = case[\"submission_date\"].astype(\"datetime64\")\n",
    "case = case.loc[:, [\"submission_date\", \"state\", \"tot_cases\", \"new_case\"]]\n",
    "case[\"lag_date\"] = case[\"submission_date\"].shift(1)"
   ]
  },
  {
   "cell_type": "code",
   "execution_count": 31,
   "metadata": {},
   "outputs": [],
   "source": [
    "join = pd.merge(case, case, how=\"left\", left_on = [\"submission_date\", \"state\"], right_on = [\"lag_date\", \"state\"])\n",
    "join[\"inc_rate\"] = join[\"new_case_y\"] / join[\"tot_cases_x\"] \n",
    "join = join.fillna(0)"
   ]
  },
  {
   "cell_type": "code",
   "execution_count": 40,
   "metadata": {},
   "outputs": [
    {
     "data": {
      "text/html": [
       "<div>\n",
       "<style scoped>\n",
       "    .dataframe tbody tr th:only-of-type {\n",
       "        vertical-align: middle;\n",
       "    }\n",
       "\n",
       "    .dataframe tbody tr th {\n",
       "        vertical-align: top;\n",
       "    }\n",
       "\n",
       "    .dataframe thead th {\n",
       "        text-align: right;\n",
       "    }\n",
       "</style>\n",
       "<table border=\"1\" class=\"dataframe\">\n",
       "  <thead>\n",
       "    <tr style=\"text-align: right;\">\n",
       "      <th></th>\n",
       "      <th>submission_date_x</th>\n",
       "      <th>state</th>\n",
       "      <th>inc_rate</th>\n",
       "    </tr>\n",
       "  </thead>\n",
       "  <tbody>\n",
       "    <tr>\n",
       "      <th>0</th>\n",
       "      <td>2020-03-05</td>\n",
       "      <td>CO</td>\n",
       "      <td>1.000000</td>\n",
       "    </tr>\n",
       "    <tr>\n",
       "      <th>1</th>\n",
       "      <td>2020-03-06</td>\n",
       "      <td>CO</td>\n",
       "      <td>3.000000</td>\n",
       "    </tr>\n",
       "    <tr>\n",
       "      <th>2</th>\n",
       "      <td>2020-03-08</td>\n",
       "      <td>CO</td>\n",
       "      <td>0.500000</td>\n",
       "    </tr>\n",
       "    <tr>\n",
       "      <th>3</th>\n",
       "      <td>2020-03-09</td>\n",
       "      <td>CO</td>\n",
       "      <td>0.416667</td>\n",
       "    </tr>\n",
       "    <tr>\n",
       "      <th>4</th>\n",
       "      <td>2020-03-10</td>\n",
       "      <td>CO</td>\n",
       "      <td>1.000000</td>\n",
       "    </tr>\n",
       "    <tr>\n",
       "      <th>...</th>\n",
       "      <td>...</td>\n",
       "      <td>...</td>\n",
       "      <td>...</td>\n",
       "    </tr>\n",
       "    <tr>\n",
       "      <th>11785</th>\n",
       "      <td>2020-10-03</td>\n",
       "      <td>MP</td>\n",
       "      <td>0.027397</td>\n",
       "    </tr>\n",
       "    <tr>\n",
       "      <th>11786</th>\n",
       "      <td>2020-10-08</td>\n",
       "      <td>MP</td>\n",
       "      <td>0.026667</td>\n",
       "    </tr>\n",
       "    <tr>\n",
       "      <th>11787</th>\n",
       "      <td>2020-10-14</td>\n",
       "      <td>MP</td>\n",
       "      <td>0.038961</td>\n",
       "    </tr>\n",
       "    <tr>\n",
       "      <th>11788</th>\n",
       "      <td>2020-10-15</td>\n",
       "      <td>MP</td>\n",
       "      <td>0.075000</td>\n",
       "    </tr>\n",
       "    <tr>\n",
       "      <th>11789</th>\n",
       "      <td>2020-10-18</td>\n",
       "      <td>MP</td>\n",
       "      <td>0.023256</td>\n",
       "    </tr>\n",
       "  </tbody>\n",
       "</table>\n",
       "<p>11790 rows × 3 columns</p>\n",
       "</div>"
      ],
      "text/plain": [
       "      submission_date_x state  inc_rate\n",
       "0            2020-03-05    CO  1.000000\n",
       "1            2020-03-06    CO  3.000000\n",
       "2            2020-03-08    CO  0.500000\n",
       "3            2020-03-09    CO  0.416667\n",
       "4            2020-03-10    CO  1.000000\n",
       "...                 ...   ...       ...\n",
       "11785        2020-10-03    MP  0.027397\n",
       "11786        2020-10-08    MP  0.026667\n",
       "11787        2020-10-14    MP  0.038961\n",
       "11788        2020-10-15    MP  0.075000\n",
       "11789        2020-10-18    MP  0.023256\n",
       "\n",
       "[11790 rows x 3 columns]"
      ]
     },
     "execution_count": 40,
     "metadata": {},
     "output_type": "execute_result"
    }
   ],
   "source": [
    "case_ = join.loc[np.logical_and(join[\"inc_rate\"]!=0, join[\"inc_rate\"] != math.inf), [\"submission_date_x\", \"state\", \"inc_rate\"]].reset_index(drop=True)\n",
    "case_"
   ]
  },
  {
   "cell_type": "code",
   "execution_count": 64,
   "metadata": {},
   "outputs": [
    {
     "name": "stderr",
     "output_type": "stream",
     "text": [
      "C:\\Users\\cnyin\\anaconda3\\lib\\site-packages\\ipykernel_launcher.py:4: DeprecationWarning: The truth value of an empty array is ambiguous. Returning False, but in future this will result in an error. Use `array.size > 0` to check that an array is not empty.\n",
      "  after removing the cwd from sys.path.\n",
      "C:\\Users\\cnyin\\anaconda3\\lib\\site-packages\\ipykernel_launcher.py:4: DeprecationWarning: The truth value of an empty array is ambiguous. Returning False, but in future this will result in an error. Use `array.size > 0` to check that an array is not empty.\n",
      "  after removing the cwd from sys.path.\n",
      "C:\\Users\\cnyin\\anaconda3\\lib\\site-packages\\ipykernel_launcher.py:4: DeprecationWarning: The truth value of an empty array is ambiguous. Returning False, but in future this will result in an error. Use `array.size > 0` to check that an array is not empty.\n",
      "  after removing the cwd from sys.path.\n",
      "C:\\Users\\cnyin\\anaconda3\\lib\\site-packages\\ipykernel_launcher.py:4: DeprecationWarning: The truth value of an empty array is ambiguous. Returning False, but in future this will result in an error. Use `array.size > 0` to check that an array is not empty.\n",
      "  after removing the cwd from sys.path.\n",
      "C:\\Users\\cnyin\\anaconda3\\lib\\site-packages\\ipykernel_launcher.py:4: DeprecationWarning: The truth value of an empty array is ambiguous. Returning False, but in future this will result in an error. Use `array.size > 0` to check that an array is not empty.\n",
      "  after removing the cwd from sys.path.\n"
     ]
    }
   ],
   "source": [
    "def helper(state):\n",
    "    tmp = join[join[\"state\"] == state].reset_index(drop=True)\n",
    "    inf_ind = np.where(tmp.inc_rate==math.inf)[0]\n",
    "    return tmp.loc[inf_ind[0]+1:, [\"submission_date_x\", \"state\", \"inc_rate\"]] if inf_ind else tmp.loc[:, [\"submission_date_x\", \"state\", \"inc_rate\"]]\n",
    "    \n",
    "case_ = pd.concat([helper(x) for x in np.unique(join[\"state\"])],axis=0).reset_index(drop=True)"
   ]
  },
  {
   "cell_type": "code",
   "execution_count": 67,
   "metadata": {},
   "outputs": [
    {
     "data": {
      "text/plain": [
       "0        0.000000\n",
       "1        0.000000\n",
       "2        0.000000\n",
       "3        2.000000\n",
       "4        1.000000\n",
       "           ...   \n",
       "14172    0.023091\n",
       "14173    0.033802\n",
       "14174    0.027518\n",
       "14175    0.042099\n",
       "14176    0.000000\n",
       "Name: inc_rate, Length: 14177, dtype: float64"
      ]
     },
     "execution_count": 67,
     "metadata": {},
     "output_type": "execute_result"
    }
   ],
   "source": [
    "case_[\"inc_rate\"]"
   ]
  },
  {
   "cell_type": "code",
   "execution_count": null,
   "metadata": {},
   "outputs": [],
   "source": []
  }
 ],
 "metadata": {
  "kernelspec": {
   "display_name": "Python 3",
   "language": "python",
   "name": "python3"
  },
  "language_info": {
   "codemirror_mode": {
    "name": "ipython",
    "version": 3
   },
   "file_extension": ".py",
   "mimetype": "text/x-python",
   "name": "python",
   "nbconvert_exporter": "python",
   "pygments_lexer": "ipython3",
   "version": "3.7.6"
  }
 },
 "nbformat": 4,
 "nbformat_minor": 4
}
