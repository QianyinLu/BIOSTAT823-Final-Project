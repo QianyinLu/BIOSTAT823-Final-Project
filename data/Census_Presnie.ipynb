{
 "cells": [
  {
   "cell_type": "code",
   "execution_count": 1,
   "metadata": {},
   "outputs": [],
   "source": [
    "import pandas as pd\n",
    "import requests"
   ]
  },
  {
   "cell_type": "code",
   "execution_count": 2,
   "metadata": {},
   "outputs": [],
   "source": [
    "#density\n",
    "response = requests.get(\"https://api.census.gov/data/2019/pep/population?get=NAME,DENSITY&for=state:*&key=e7b88482d553e940a4dc8d2cef76ab26d28f876a\")\n",
    "data = response.json()\n",
    "pop_density = pd.DataFrame(data)"
   ]
  },
  {
   "cell_type": "code",
   "execution_count": 3,
   "metadata": {},
   "outputs": [],
   "source": [
    "pop_density.columns = [\"State\",\"Density\",\"number\"]\n",
    "pop_density = pop_density.drop(0,axis = 0)\n",
    "pop_density = pop_density.drop(\"number\",axis = 1)"
   ]
  },
  {
   "cell_type": "code",
   "execution_count": 4,
   "metadata": {},
   "outputs": [],
   "source": [
    "pop_density[[\"Density\"]] = pop_density[[\"Density\"]].apply(pd.to_numeric)"
   ]
  },
  {
   "cell_type": "code",
   "execution_count": 5,
   "metadata": {},
   "outputs": [],
   "source": [
    "#age group:under 18 and over 65\n",
    "response = requests.get(\"https://api.census.gov/data/2019/acs/acs1/subject?get=NAME,S0101_C02_022E,S0101_C02_030E&for=state:*&key=e7b88482d553e940a4dc8d2cef76ab26d28f876a\")\n",
    "data = response.json()\n",
    "age = pd.DataFrame(data)"
   ]
  },
  {
   "cell_type": "code",
   "execution_count": 6,
   "metadata": {},
   "outputs": [],
   "source": [
    "age.columns = [\"State\",\"Under 18\", \"Over 65\", \"number\"]\n",
    "age = age.drop(0,axis = 0)\n",
    "age[[\"Under 18\", \"Over 65\"]] = age[[\"Under 18\", \"Over 65\"]].apply(pd.to_numeric, errors='raise')"
   ]
  },
  {
   "cell_type": "code",
   "execution_count": 7,
   "metadata": {},
   "outputs": [],
   "source": [
    "age = age.drop(\"number\",axis = 1)"
   ]
  },
  {
   "cell_type": "code",
   "execution_count": 8,
   "metadata": {},
   "outputs": [],
   "source": [
    "#sex and race\n",
    "response = requests.get(\"https://api.census.gov/data/2019/acs/acs1?get=NAME,B01001_001E,B01001_002E,B01001_026E,B02001_002E,B02001_003E,B02001_004E,B02001_005E,B02001_006E,B02001_007E&for=state:*&key=e7b88482d553e940a4dc8d2cef76ab26d28f876a\")\n",
    "data = response.json()\n",
    "sex_race = pd.DataFrame(data)"
   ]
  },
  {
   "cell_type": "code",
   "execution_count": 9,
   "metadata": {},
   "outputs": [],
   "source": [
    "sex_race = sex_race.drop(0,axis = 0)\n",
    "sex_race.columns = [\"State\",\"Population\",\"male\",\"female\", \"white\",\"black\",\"indian(Native)\", \"asian\",\"hawaiian\",\"other\",\"number\"]"
   ]
  },
  {
   "cell_type": "code",
   "execution_count": 10,
   "metadata": {},
   "outputs": [],
   "source": [
    "sex_race[sex_race.columns[1:-1].to_list()] = sex_race.iloc[:,1:-1].apply(pd.to_numeric, errors = \"raise\")"
   ]
  },
  {
   "cell_type": "code",
   "execution_count": 11,
   "metadata": {},
   "outputs": [],
   "source": [
    "for i in sex_race.iloc[:,2:-1].columns.to_list():\n",
    "    sex_race[i] = round(sex_race[i]/sex_race[\"Population\"]*100,1)"
   ]
  },
  {
   "cell_type": "code",
   "execution_count": 12,
   "metadata": {},
   "outputs": [],
   "source": [
    "sex_race = sex_race.drop(\"number\",1)"
   ]
  },
  {
   "cell_type": "code",
   "execution_count": 13,
   "metadata": {},
   "outputs": [],
   "source": [
    "df1 = pd.merge(pop_density, age, how = \"inner\", on = \"State\")"
   ]
  },
  {
   "cell_type": "code",
   "execution_count": 46,
   "metadata": {},
   "outputs": [],
   "source": [
    "state_demographic = pd.merge(df1,sex_race,how = \"inner\", on = \"State\")\n",
    "state_abbrev = pd.read_excel(\"data/state_abbrev.xlsx\")\n",
    "d = {k:v for k, v in zip(state_abbrev[\"state\"].str.lower().replace(\"\\xa0\", \" \"), state_abbrev[\"abbrev\"])}\n",
    "state_demographic[\"State\"] = (state_demographic[\"State\"].str.lower()).map(d)\n",
    "state_demographic = state_demographic.dropna().reset_index(drop=True)"
   ]
  },
  {
   "cell_type": "code",
   "execution_count": 49,
   "metadata": {},
   "outputs": [],
   "source": [
    "state_demographic.to_csv(\"data/state_demographic.csv\", index=False)"
   ]
  }
 ],
 "metadata": {
  "kernelspec": {
   "display_name": "Python 3",
   "language": "python",
   "name": "python3"
  },
  "language_info": {
   "codemirror_mode": {
    "name": "ipython",
    "version": 3
   },
   "file_extension": ".py",
   "mimetype": "text/x-python",
   "name": "python",
   "nbconvert_exporter": "python",
   "pygments_lexer": "ipython3",
   "version": "3.7.6"
  }
 },
 "nbformat": 4,
 "nbformat_minor": 4
}
