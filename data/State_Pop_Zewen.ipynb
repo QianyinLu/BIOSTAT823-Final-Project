{
 "cells": [
  {
   "cell_type": "code",
   "execution_count": 1,
   "metadata": {},
   "outputs": [],
   "source": [
    "import pandas as pd\n",
    "import requests"
   ]
  },
  {
   "cell_type": "code",
   "execution_count": 2,
   "metadata": {},
   "outputs": [],
   "source": [
    "def get_pop(year):\n",
    "    year = str(year)\n",
    "    variable = str('NAME,B01001_001E,B01001_002E,B01001_003E,B01001_004E,B01001_005E,B01001_006E,B01001_007E,B01001_008E,B01001_009E,B01001_010E,B01001_011E,B01001_012E,B01001_013E,B01001_014E,B01001_015E,B01001_016E,B01001_017E,B01001_018E,B01001_019E,B01001_020E,B01001_021E,B01001_022E,B01001_023E,B01001_024E,B01001_025E,B01001_026E,B01001_027E,B01001_028E,B01001_029E,B01001_030E,B01001_031E,B01001_032E,B01001_033E,B01001_034E,B01001_035E,B01001_036E,B01001_037E,B01001_038E,B01001_039E,B01001_040E,B01001_041E,B01001_042E,B01001_043E,B01001_044E,B01001_045E,B01001_046E,B01001_047E,B01001_048E,B01001_049E') \n",
    "    base = \"https://api.census.gov/data/\" + year + \"/acs/acs1?get=\" + variable + \"&for=county:*&key=e7b88482d553e940a4dc8d2cef76ab26d28f876a\"\n",
    "    response = requests.get(base)\n",
    "    data =response.json()\n",
    "    df = pd.DataFrame(data,columns = data[0])\n",
    "    df = df.iloc[1:,]\n",
    "    df.columns = ['Name','Total','Total (M)','Under 5 years (M)','5 to 9 years (M)','10 to 14 years (M)','15 to 17 years (M)','18 and 19 years (M)','20 years (M)','21 years (M)','22 to 24 years (M)','25 to 29 years (M)','30 to 34 years (M)','35 to 39 years (M)','40 to 44 years (M)','45 to 49 years (M)','50 to 54 years (M)','55 to 59 years (M)','60 and 61 years (M)','62 to 64 years (M)','65 and 66 years (M)','67 to 69 years (M)','70 to 74 years (M)','75 to 79 years (M)','80 to 84 years (M)','85 years and over (M)','Total (F)','Under 5 years (F)','5 to 9 years (F)','10 to 14 years (F)','15 to 17 years (F)','18 and 19 years (F)','20 years (F)','21 years (F)','22 to 24 years (F)','25 to 29 years (F)','30 to 34 years (F)','35 to 39 years (F)','40 to 44 years (F)','45 to 49 years (F)','50 to 54 years (F)','55 to 59 years (F)','60 and 61 years (F)','62 to 64 years (F)','65 and 66 years (F)','67 to 69 years (F)','70 to 74 years (F)','75 to 79 years (F)','80 to 84 years (F)','85 years and over (F)','state','county']\n",
    "    return df"
   ]
  },
  {
   "cell_type": "code",
   "execution_count": 7,
   "metadata": {},
   "outputs": [],
   "source": [
    "df_2019 = get_pop('2019')"
   ]
  },
  {
   "cell_type": "code",
   "execution_count": 8,
   "metadata": {},
   "outputs": [],
   "source": [
    "df_2019.to_csv(\"data/pop_2019.csv\")"
   ]
  },
  {
   "cell_type": "code",
   "execution_count": null,
   "metadata": {},
   "outputs": [],
   "source": []
  }
 ],
 "metadata": {
  "kernelspec": {
   "display_name": "Python 3",
   "language": "python",
   "name": "python3"
  },
  "language_info": {
   "codemirror_mode": {
    "name": "ipython",
    "version": 3
   },
   "file_extension": ".py",
   "mimetype": "text/x-python",
   "name": "python",
   "nbconvert_exporter": "python",
   "pygments_lexer": "ipython3",
   "version": "3.7.6"
  }
 },
 "nbformat": 4,
 "nbformat_minor": 4
}
