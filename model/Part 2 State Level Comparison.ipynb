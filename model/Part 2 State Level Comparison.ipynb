{
 "cells": [
  {
   "cell_type": "code",
   "execution_count": 1,
   "metadata": {},
   "outputs": [],
   "source": [
    "import numpy as np\n",
    "import pandas as pd\n",
    "import math\n",
    "import warnings\n",
    "import datetime\n",
    "\n",
    "warnings.simplefilter(\"ignore\")"
   ]
  },
  {
   "cell_type": "code",
   "execution_count": 2,
   "metadata": {},
   "outputs": [],
   "source": [
    "case = pd.read_csv(\"data/data/covid_19.csv\")"
   ]
  },
  {
   "cell_type": "code",
   "execution_count": 3,
   "metadata": {},
   "outputs": [],
   "source": [
    "case[\"submission_date\"] = case[\"submission_date\"].astype(\"datetime64\")\n",
    "case = case.loc[:, [\"submission_date\", \"state\", \"tot_cases\", \"new_case\"]]\n",
    "case[\"lag_date\"] = case[\"submission_date\"].shift(1)"
   ]
  },
  {
   "cell_type": "code",
   "execution_count": 4,
   "metadata": {},
   "outputs": [],
   "source": [
    "join = pd.merge(case, case, how=\"left\", left_on = [\"submission_date\", \"state\"], right_on = [\"lag_date\", \"state\"])\n",
    "join[\"inc_rate\"] = join[\"new_case_y\"] / join[\"tot_cases_x\"] \n",
    "join = join.fillna(0)"
   ]
  },
  {
   "cell_type": "code",
   "execution_count": 5,
   "metadata": {},
   "outputs": [],
   "source": [
    "def helper1(state):\n",
    "    tmp = join[join[\"state\"] == state].reset_index(drop=True)\n",
    "    inf_ind = np.where(tmp.inc_rate==math.inf)[0]\n",
    "    return tmp.loc[inf_ind[0]+1:, [\"submission_date_x\", \"state\", \"inc_rate\"]] if inf_ind else tmp.loc[:, [\"submission_date_x\", \"state\", \"inc_rate\"]]\n",
    "    \n",
    "case_ = pd.concat([helper1(x) for x in np.unique(join[\"state\"])],axis=0).reset_index(drop=True)\n",
    "case_.columns = [\"date\", \"state\", \"inc_rate\"]"
   ]
  },
  {
   "cell_type": "code",
   "execution_count": 6,
   "metadata": {},
   "outputs": [],
   "source": [
    "policy = pd.read_csv(\"data/data/policy.csv\")\n",
    "policy = policy.loc[:, ['POSTCODE', 'STAYHOME(start)', 'FM_ALL(start)', 'CLREST(start)', 'CLBSNS(start)']]\n",
    "for v in ['STAYHOME(start)', 'FM_ALL(start)', 'CLREST(start)', 'CLBSNS(start)']:\n",
    "    policy[v] = policy[v].replace(\"0\", None)\n",
    "    policy = policy.dropna()\n",
    "    policy[v] = policy[v].astype('datetime64')\n",
    "policy.columns = ['state', 'stay at home order', 'face mask mandatory', 'restaurant close', 'business close']\n",
    "policy = pd.melt(policy, id_vars=\"state\", var_name=\"policy\", value_name=\"date\")\n",
    "\n",
    "policy[\"before_7\"] = policy[\"date\"]+datetime.timedelta(days=-7)\n",
    "policy[\"after_7\"] = policy[\"date\"]+datetime.timedelta(days=7)\n",
    "policy[\"before_15\"] = policy[\"date\"]+datetime.timedelta(days=-15)\n",
    "policy[\"after_15\"] = policy[\"date\"]+datetime.timedelta(days=15)"
   ]
  },
  {
   "cell_type": "code",
   "execution_count": 59,
   "metadata": {},
   "outputs": [],
   "source": [
    "res = []\n",
    "\n",
    "for s in policy.state.unique():\n",
    "    for p in policy.policy.unique():\n",
    "        tmp = policy.loc[np.logical_and(policy[\"state\"] == s, policy[\"policy\"] == p),:]\n",
    "        date = tmp['date'][tmp.index[0]]\n",
    "        tmp_ = case_.loc[case_[\"state\"] == s,:]\n",
    "        tmp_b7 = tmp_.loc[np.logical_and(case_[\"date\"] >= tmp['before_7'][tmp.index[0]],\n",
    "                                     case_[\"date\"] < tmp['date'][tmp.index[0]]), :]\n",
    "        b7 = np.exp(np.log(tmp_b7['inc_rate']+1).sum()/7)-1\n",
    "        tmp_a7 = tmp_.loc[np.logical_and(case_[\"date\"] <= tmp['after_7'][tmp.index[0]],\n",
    "                                     case_[\"date\"] > tmp['date'][tmp.index[0]]), :]\n",
    "        a7 = np.exp(np.log(tmp_a7['inc_rate']+1).sum()/7)-1\n",
    "        tmp_b15 = tmp_.loc[np.logical_and(case_[\"date\"] >= tmp['before_15'][tmp.index[0]],\n",
    "                                     case_[\"date\"] < tmp['date'][tmp.index[0]]), :]\n",
    "        b15 = np.exp(np.log(tmp_b15['inc_rate']+1).sum()/15)-1\n",
    "        tmp_a15 = tmp_.loc[np.logical_and(case_[\"date\"] <= tmp['after_15'][tmp.index[0]],\n",
    "                                     case_[\"date\"] > tmp['date'][tmp.index[0]]), :]\n",
    "        a15 = np.exp(np.log(tmp_a15['inc_rate']+1).sum()/15)-1\n",
    "        res.append((s, p, b7, a7, b15, a15))\n",
    "\n",
    "compare = pd.DataFrame(res, columns = ['state', 'policy', 'before_7', 'after_7', 'before_15', 'after_15']).dropna()\n",
    "compare[\"diff_7\"] = compare[\"after_7\"] - compare[\"before_7\"]\n",
    "compare[\"diff_15\"] = compare[\"after_15\"] - compare[\"before_15\"]\n",
    "\n",
    "compare.to_csv(\"data/data/compare.csv\")"
   ]
  }
 ],
 "metadata": {
  "kernelspec": {
   "display_name": "Python 3",
   "language": "python",
   "name": "python3"
  },
  "language_info": {
   "codemirror_mode": {
    "name": "ipython",
    "version": 3
   },
   "file_extension": ".py",
   "mimetype": "text/x-python",
   "name": "python",
   "nbconvert_exporter": "python",
   "pygments_lexer": "ipython3",
   "version": "3.7.6"
  }
 },
 "nbformat": 4,
 "nbformat_minor": 4
}
