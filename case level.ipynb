{
 "cells": [
  {
   "cell_type": "code",
   "execution_count": 1,
   "metadata": {},
   "outputs": [],
   "source": [
    "import numpy as np\n",
    "import pandas as pd\n",
    "import math\n",
    "import seaborn as sns\n",
    "import warnings\n",
    "\n",
    "warnings.simplefilter(\"ignore\")"
   ]
  },
  {
   "cell_type": "code",
   "execution_count": 2,
   "metadata": {},
   "outputs": [],
   "source": [
    "case = pd.read_csv(\"data/data/covid_19.csv\")"
   ]
  },
  {
   "cell_type": "code",
   "execution_count": 3,
   "metadata": {},
   "outputs": [],
   "source": [
    "case[\"submission_date\"] = case[\"submission_date\"].astype(\"datetime64\")\n",
    "case = case.loc[:, [\"submission_date\", \"state\", \"tot_cases\", \"new_case\"]]\n",
    "case[\"lag_date\"] = case[\"submission_date\"].shift(1)"
   ]
  },
  {
   "cell_type": "code",
   "execution_count": 4,
   "metadata": {},
   "outputs": [],
   "source": [
    "join = pd.merge(case, case, how=\"left\", left_on = [\"submission_date\", \"state\"], right_on = [\"lag_date\", \"state\"])\n",
    "join[\"inc_rate\"] = join[\"new_case_y\"] / join[\"tot_cases_x\"] \n",
    "join = join.fillna(0)"
   ]
  },
  {
   "cell_type": "code",
   "execution_count": 5,
   "metadata": {},
   "outputs": [],
   "source": [
    "def helper1(state):\n",
    "    tmp = join[join[\"state\"] == state].reset_index(drop=True)\n",
    "    inf_ind = np.where(tmp.inc_rate==math.inf)[0]\n",
    "    return tmp.loc[inf_ind[0]+1:, [\"submission_date_x\", \"state\", \"inc_rate\"]] if inf_ind else tmp.loc[:, [\"submission_date_x\", \"state\", \"inc_rate\"]]\n",
    "    \n",
    "case_ = pd.concat([helper1(x) for x in np.unique(join[\"state\"])],axis=0).reset_index(drop=True)\n",
    "case_.columns = [\"date\", \"state\", \"inc_rate\"]"
   ]
  },
  {
   "cell_type": "code",
   "execution_count": 6,
   "metadata": {},
   "outputs": [],
   "source": [
    "def helper2(state, shift=1):\n",
    "    tmp = case_[case_[\"state\"] == state]\n",
    "    for i in range(1, shift+1):\n",
    "        varname = \"lag_\" + str(i)\n",
    "        tmp[varname] = tmp[\"inc_rate\"].shift(i)\n",
    "    return tmp\n",
    "\n",
    "data = pd.concat([helper2(x, shift=7) for x in np.unique(join[\"state\"])],axis=0).dropna().reset_index(drop=True)"
   ]
  },
  {
   "cell_type": "markdown",
   "metadata": {},
   "source": [
    "### hospital"
   ]
  },
  {
   "cell_type": "code",
   "execution_count": 7,
   "metadata": {},
   "outputs": [],
   "source": [
    "hos2 = pd.read_csv(\"data/data/hospital2.csv\")\n",
    "d = {\"APR\": 4, \"MAY\": 5, \"JUN\": 6, \"JUL\": 7}\n",
    "hos2[\"month\"] = hos2[[\"month\"]].applymap(lambda x: d[x])\n",
    "hos2[\"date\"] = pd.to_datetime(hos2[['year', 'day', 'month']]) # concat date\n",
    "hos2 = hos2.filter([\"date\", \"state\"] + hos2.columns[hos2.columns.str.contains(\"Est\")].to_list(), axis=1)\n",
    "\n",
    "var_list = [\"InpatBeds_Occ_AnyPat_Est\", \"InpatBeds_Occ_AnyPat_Est_Avail\", \"InpatBeds_Occ_COVID_Est\", \"ICUBeds_Occ_AnyPat_Est\", \"ICUBeds_Occ_AnyPat_Est_Avail\"]\n",
    "\n",
    "for var in var_list: ## log-scale the discrete variables \n",
    "    hos2[\"Log_\"+var] = np.log(hos2[var]+1)\n",
    "    hos2 = hos2.drop(var, axis=1)"
   ]
  },
  {
   "cell_type": "code",
   "execution_count": 14,
   "metadata": {},
   "outputs": [
    {
     "data": {
      "text/html": [
       "<div>\n",
       "<style scoped>\n",
       "    .dataframe tbody tr th:only-of-type {\n",
       "        vertical-align: middle;\n",
       "    }\n",
       "\n",
       "    .dataframe tbody tr th {\n",
       "        vertical-align: top;\n",
       "    }\n",
       "\n",
       "    .dataframe thead th {\n",
       "        text-align: right;\n",
       "    }\n",
       "</style>\n",
       "<table border=\"1\" class=\"dataframe\">\n",
       "  <thead>\n",
       "    <tr style=\"text-align: right;\">\n",
       "      <th></th>\n",
       "      <th>date</th>\n",
       "      <th>state</th>\n",
       "      <th>inc_rate</th>\n",
       "      <th>lag_1</th>\n",
       "      <th>lag_2</th>\n",
       "      <th>lag_3</th>\n",
       "      <th>lag_4</th>\n",
       "      <th>lag_5</th>\n",
       "      <th>lag_6</th>\n",
       "      <th>lag_7</th>\n",
       "      <th>InBedsOccAnyPat__Numbeds_Est</th>\n",
       "      <th>InBedsOccCOVID__Numbeds_Est</th>\n",
       "      <th>ICUBedsOccAnyPat__N_ICUBeds_Est</th>\n",
       "      <th>Log_InpatBeds_Occ_AnyPat_Est</th>\n",
       "      <th>Log_InpatBeds_Occ_AnyPat_Est_Avail</th>\n",
       "      <th>Log_InpatBeds_Occ_COVID_Est</th>\n",
       "      <th>Log_ICUBeds_Occ_AnyPat_Est</th>\n",
       "      <th>Log_ICUBeds_Occ_AnyPat_Est_Avail</th>\n",
       "    </tr>\n",
       "  </thead>\n",
       "  <tbody>\n",
       "    <tr>\n",
       "      <th>0</th>\n",
       "      <td>2020-04-01</td>\n",
       "      <td>AK</td>\n",
       "      <td>0.027972</td>\n",
       "      <td>0.075188</td>\n",
       "      <td>0.117647</td>\n",
       "      <td>0.043860</td>\n",
       "      <td>0.117647</td>\n",
       "      <td>0.200000</td>\n",
       "      <td>0.231884</td>\n",
       "      <td>0.169492</td>\n",
       "      <td>57.6</td>\n",
       "      <td>4.3</td>\n",
       "      <td>54.7</td>\n",
       "      <td>6.278521</td>\n",
       "      <td>5.973810</td>\n",
       "      <td>3.713572</td>\n",
       "      <td>4.418841</td>\n",
       "      <td>4.234107</td>\n",
       "    </tr>\n",
       "    <tr>\n",
       "      <th>1</th>\n",
       "      <td>2020-04-02</td>\n",
       "      <td>AK</td>\n",
       "      <td>0.068027</td>\n",
       "      <td>0.027972</td>\n",
       "      <td>0.075188</td>\n",
       "      <td>0.117647</td>\n",
       "      <td>0.043860</td>\n",
       "      <td>0.117647</td>\n",
       "      <td>0.200000</td>\n",
       "      <td>0.231884</td>\n",
       "      <td>56.7</td>\n",
       "      <td>5.6</td>\n",
       "      <td>48.0</td>\n",
       "      <td>6.263398</td>\n",
       "      <td>5.993961</td>\n",
       "      <td>3.970292</td>\n",
       "      <td>4.290459</td>\n",
       "      <td>4.369448</td>\n",
       "    </tr>\n",
       "    <tr>\n",
       "      <th>2</th>\n",
       "      <td>2020-04-03</td>\n",
       "      <td>AK</td>\n",
       "      <td>0.089172</td>\n",
       "      <td>0.068027</td>\n",
       "      <td>0.027972</td>\n",
       "      <td>0.075188</td>\n",
       "      <td>0.117647</td>\n",
       "      <td>0.043860</td>\n",
       "      <td>0.117647</td>\n",
       "      <td>0.200000</td>\n",
       "      <td>55.2</td>\n",
       "      <td>5.2</td>\n",
       "      <td>42.7</td>\n",
       "      <td>6.236370</td>\n",
       "      <td>6.028279</td>\n",
       "      <td>3.891820</td>\n",
       "      <td>4.174387</td>\n",
       "      <td>4.465908</td>\n",
       "    </tr>\n",
       "    <tr>\n",
       "      <th>3</th>\n",
       "      <td>2020-04-04</td>\n",
       "      <td>AK</td>\n",
       "      <td>0.081871</td>\n",
       "      <td>0.089172</td>\n",
       "      <td>0.068027</td>\n",
       "      <td>0.027972</td>\n",
       "      <td>0.075188</td>\n",
       "      <td>0.117647</td>\n",
       "      <td>0.043860</td>\n",
       "      <td>0.117647</td>\n",
       "      <td>49.0</td>\n",
       "      <td>2.6</td>\n",
       "      <td>44.7</td>\n",
       "      <td>6.398595</td>\n",
       "      <td>6.439350</td>\n",
       "      <td>3.496508</td>\n",
       "      <td>4.304065</td>\n",
       "      <td>4.521789</td>\n",
       "    </tr>\n",
       "    <tr>\n",
       "      <th>4</th>\n",
       "      <td>2020-04-05</td>\n",
       "      <td>AK</td>\n",
       "      <td>0.032432</td>\n",
       "      <td>0.081871</td>\n",
       "      <td>0.089172</td>\n",
       "      <td>0.068027</td>\n",
       "      <td>0.027972</td>\n",
       "      <td>0.075188</td>\n",
       "      <td>0.117647</td>\n",
       "      <td>0.043860</td>\n",
       "      <td>48.5</td>\n",
       "      <td>3.9</td>\n",
       "      <td>51.8</td>\n",
       "      <td>6.388561</td>\n",
       "      <td>6.448889</td>\n",
       "      <td>3.912023</td>\n",
       "      <td>4.454347</td>\n",
       "      <td>4.382027</td>\n",
       "    </tr>\n",
       "  </tbody>\n",
       "</table>\n",
       "</div>"
      ],
      "text/plain": [
       "        date state  inc_rate     lag_1     lag_2     lag_3     lag_4  \\\n",
       "0 2020-04-01    AK  0.027972  0.075188  0.117647  0.043860  0.117647   \n",
       "1 2020-04-02    AK  0.068027  0.027972  0.075188  0.117647  0.043860   \n",
       "2 2020-04-03    AK  0.089172  0.068027  0.027972  0.075188  0.117647   \n",
       "3 2020-04-04    AK  0.081871  0.089172  0.068027  0.027972  0.075188   \n",
       "4 2020-04-05    AK  0.032432  0.081871  0.089172  0.068027  0.027972   \n",
       "\n",
       "      lag_5     lag_6     lag_7  InBedsOccAnyPat__Numbeds_Est  \\\n",
       "0  0.200000  0.231884  0.169492                          57.6   \n",
       "1  0.117647  0.200000  0.231884                          56.7   \n",
       "2  0.043860  0.117647  0.200000                          55.2   \n",
       "3  0.117647  0.043860  0.117647                          49.0   \n",
       "4  0.075188  0.117647  0.043860                          48.5   \n",
       "\n",
       "   InBedsOccCOVID__Numbeds_Est  ICUBedsOccAnyPat__N_ICUBeds_Est  \\\n",
       "0                          4.3                             54.7   \n",
       "1                          5.6                             48.0   \n",
       "2                          5.2                             42.7   \n",
       "3                          2.6                             44.7   \n",
       "4                          3.9                             51.8   \n",
       "\n",
       "   Log_InpatBeds_Occ_AnyPat_Est  Log_InpatBeds_Occ_AnyPat_Est_Avail  \\\n",
       "0                      6.278521                            5.973810   \n",
       "1                      6.263398                            5.993961   \n",
       "2                      6.236370                            6.028279   \n",
       "3                      6.398595                            6.439350   \n",
       "4                      6.388561                            6.448889   \n",
       "\n",
       "   Log_InpatBeds_Occ_COVID_Est  Log_ICUBeds_Occ_AnyPat_Est  \\\n",
       "0                     3.713572                    4.418841   \n",
       "1                     3.970292                    4.290459   \n",
       "2                     3.891820                    4.174387   \n",
       "3                     3.496508                    4.304065   \n",
       "4                     3.912023                    4.454347   \n",
       "\n",
       "   Log_ICUBeds_Occ_AnyPat_Est_Avail  \n",
       "0                          4.234107  \n",
       "1                          4.369448  \n",
       "2                          4.465908  \n",
       "3                          4.521789  \n",
       "4                          4.382027  "
      ]
     },
     "execution_count": 14,
     "metadata": {},
     "output_type": "execute_result"
    }
   ],
   "source": [
    "case_hos = pd.merge(data, hos2, how='inner', on=['state', 'date'])\n",
    "case_hos.head()"
   ]
  },
  {
   "cell_type": "code",
   "execution_count": 19,
   "metadata": {},
   "outputs": [
    {
     "data": {
      "text/plain": [
       "(4934, 18)"
      ]
     },
     "execution_count": 19,
     "metadata": {},
     "output_type": "execute_result"
    }
   ],
   "source": [
    "case_hos.shape"
   ]
  },
  {
   "cell_type": "markdown",
   "metadata": {},
   "source": [
    "### policy"
   ]
  },
  {
   "cell_type": "code",
   "execution_count": 11,
   "metadata": {},
   "outputs": [],
   "source": [
    "policy = pd.read_csv(\"data/data/policy.csv\")"
   ]
  },
  {
   "cell_type": "code",
   "execution_count": 12,
   "metadata": {},
   "outputs": [],
   "source": [
    "def generate_policy(var_name, data, start, end = None):\n",
    "    policy[start] = pd.to_datetime(policy[start],errors = \"coerce\")\n",
    "    if end == None:\n",
    "        temp = pd.merge(data, policy[[\"POSTCODE\",start]], how = \"inner\", \n",
    "                        left_on = \"state\", right_on = \"POSTCODE\")\n",
    "        output = []\n",
    "        for i in range(temp.shape[0]):\n",
    "            if pd.isnull(temp[start][i]) or temp[\"date\"][i] < temp[start][i]:\n",
    "                output.append(0)\n",
    "            else:\n",
    "                output.append(1)\n",
    "        temp = temp.drop([\"POSTCODE\",start],axis = 1)\n",
    "    else:\n",
    "        policy[end] = pd.to_datetime(policy[end],errors = \"coerce\")\n",
    "        temp = pd.merge(data, policy[[\"POSTCODE\", start, end]], how = \"inner\", \n",
    "                        left_on = \"state\", right_on = \"POSTCODE\")\n",
    "        output = []\n",
    "        for i in range(temp.shape[0]):\n",
    "            if pd.isnull(temp[start][i]):\n",
    "                output.append(0)\n",
    "            elif temp[\"date\"][i] < temp[start][i] or temp[\"date\"][i] >= temp[end][i]:\n",
    "                output.append(0)\n",
    "            else:\n",
    "                output.append(1)\n",
    "        temp = temp.drop([\"POSTCODE\",start,end], axis = 1)\n",
    "    temp[var_name] = output\n",
    "    return temp"
   ]
  },
  {
   "cell_type": "code",
   "execution_count": 40,
   "metadata": {},
   "outputs": [],
   "source": [
    "case_hos_plc = case_hos.copy()\n",
    "\n",
    "for var_name, start, end in [('stay at home order', 'STAYHOME(start)', 'END_STHM(end)'),\n",
    "                             ('face mask mandatory', 'FM_ALL(start)', None),\n",
    "                             ('restaurant closed', 'CLREST(start)', 'ENDREST(end)'),\n",
    "                             ('business closed', 'CLBSNS(start)', 'END_BSNS(end)')]:\n",
    "    case_hos_plc = generate_policy(var_name, case_hos_plc, start, end)\n",
    "\n",
    "tmp = policy.loc[:,['POSTCODE','RELIGEX(attribute)','FMFINE(attribute)']].rename({'POSTCODE':'state',\n",
    "             'RELIGEX(attribute)':'religious gathering forbidden',\n",
    "             'FMFINE(attribute)':'face mask fine'}, axis=1)\n",
    "case_hos_plc = pd.merge(case_hos_plc, tmp, how='inner', on='state')"
   ]
  },
  {
   "cell_type": "markdown",
   "metadata": {},
   "source": [
    "### Population"
   ]
  },
  {
   "cell_type": "code",
   "execution_count": null,
   "metadata": {},
   "outputs": [],
   "source": []
  },
  {
   "cell_type": "markdown",
   "metadata": {},
   "source": [
    "### Random Forest Model"
   ]
  },
  {
   "cell_type": "code",
   "execution_count": 46,
   "metadata": {},
   "outputs": [
    {
     "name": "stdout",
     "output_type": "stream",
     "text": [
      "(3000, 21) (1836, 21) (3000,) (1836,)\n"
     ]
    }
   ],
   "source": [
    "from sklearn.ensemble import RandomForestRegressor\n",
    "from sklearn.model_selection import train_test_split\n",
    "\n",
    "X = case_hos_plc.iloc[:, 3:]\n",
    "y = case_hos_plc.iloc[:, 2]\n",
    "\n",
    "idx_train = case_hos_plc[\"date\"] <= \"2020-06-01\"\n",
    "idx_test = case_hos_plc[\"date\"] > \"2020-06-01\"\n",
    "\n",
    "columns = X.columns\n",
    "\n",
    "X_train = X.loc[idx_train, :]\n",
    "X_test = X.loc[idx_test, :]\n",
    "y_train = y[idx_train]\n",
    "y_test = y[idx_test]\n",
    "\n",
    "print(X_train.shape, X_test.shape, y_train.shape, y_test.shape)"
   ]
  },
  {
   "cell_type": "code",
   "execution_count": 47,
   "metadata": {},
   "outputs": [],
   "source": [
    "from sklearn.preprocessing import StandardScaler\n",
    "\n",
    "ss = StandardScaler()\n",
    "\n",
    "ss.fit(X_train)\n",
    "X_train = ss.transform(X_train)\n",
    "X_test = ss.transform(X_test)"
   ]
  },
  {
   "cell_type": "code",
   "execution_count": 48,
   "metadata": {},
   "outputs": [
    {
     "name": "stdout",
     "output_type": "stream",
     "text": [
      "0.010757863993054156\n",
      "0.010607404793081325\n"
     ]
    }
   ],
   "source": [
    "def rmse(y, y_pred):\n",
    "    return np.sqrt(((y-y_pred)**2).mean())\n",
    "\n",
    "rf = RandomForestRegressor()\n",
    "rf.fit(X_train, y_train)\n",
    "print(rmse(rf.predict(X_train), y_train))\n",
    "print(rmse(rf.predict(X_test), y_test))"
   ]
  },
  {
   "cell_type": "code",
   "execution_count": 49,
   "metadata": {},
   "outputs": [
    {
     "data": {
      "image/png": "[encoded data removed]",
      "text/plain": [
       "<Figure size 432x288 with 1 Axes>"
      ]
     },
     "metadata": {
      "needs_background": "light"
     },
     "output_type": "display_data"
    }
   ],
   "source": [
    "from sklearn.inspection import permutation_importance\n",
    "importances = permutation_importance(rf, X_train, y_train)\n",
    "\n",
    "idx = np.argsort(-importances['importances_mean'])[7:]\n",
    "sns.barplot(importances['importances_mean'][idx], columns[idx]);"
   ]
  },
  {
   "cell_type": "code",
   "execution_count": 82,
   "metadata": {},
   "outputs": [],
   "source": [
    "def rf_by_state(state='NC'):\n",
    "    tmp = case_hos_plc.loc[case_hos_plc['state']==state, ].copy()\n",
    "\n",
    "    X_s = tmp.iloc[:, 3:]\n",
    "    y_s = tmp.iloc[:, 2]\n",
    "\n",
    "    for column in X_s.columns:\n",
    "        if len(X_s[column].unique()) == 1:\n",
    "            X_s = X_s.drop(column, axis=1)\n",
    "\n",
    "    idx_train_s = tmp[\"date\"] <= \"2020-06-01\"\n",
    "    idx_test_s = tmp[\"date\"] > \"2020-06-01\"\n",
    "\n",
    "    columns = X_s.columns\n",
    "\n",
    "    X_train_s = X_s.loc[idx_train, :]\n",
    "    X_test_s = X_s.loc[idx_test, :]\n",
    "    y_train_s = y_s[idx_train]\n",
    "    y_test_s = y_s[idx_test]\n",
    "\n",
    "    ss = StandardScaler()\n",
    "\n",
    "    ss.fit(X_train_s)\n",
    "    X_train_s = ss.transform(X_train_s)\n",
    "    X_test_s = ss.transform(X_test_s)\n",
    "    rf = RandomForestRegressor()\n",
    "    rf.fit(X_train_s, y_train_s)\n",
    "    train = rmse(rf.predict(X_train_s), y_train_s)\n",
    "    test = rmse(rf.predict(X_test_s), y_test_s)\n",
    "    \n",
    "    importances = permutation_importance(rf, X_train_s, y_train_s)\n",
    "\n",
    "    idx = np.setdiff1d(np.argsort(-importances['importances_mean']),\n",
    "                       [0,1,2,3,4,5,6], assume_unique=True)\n",
    "    sns.barplot(importances['importances_mean'][idx], columns[idx])\n",
    "    \n",
    "    return train, test"
   ]
  },
  {
   "cell_type": "code",
   "execution_count": 83,
   "metadata": {},
   "outputs": [
    {
     "data": {
      "text/plain": [
       "(0.016430309594132633, 0.01404962191560224)"
      ]
     },
     "execution_count": 83,
     "metadata": {},
     "output_type": "execute_result"
    },
    {
     "data": {
      "image/png": "[encoded data removed]",
      "text/plain": [
       "<Figure size 432x288 with 1 Axes>"
      ]
     },
     "metadata": {
      "needs_background": "light"
     },
     "output_type": "display_data"
    }
   ],
   "source": [
    "rf_by_state('CA')"
   ]
  },
  {
   "cell_type": "code",
   "execution_count": null,
   "metadata": {},
   "outputs": [],
   "source": []
  }
 ],
 "metadata": {
  "kernelspec": {
   "display_name": "Python 3",
   "language": "python",
   "name": "python3"
  },
  "language_info": {
   "codemirror_mode": {
    "name": "ipython",
    "version": 3
   },
   "file_extension": ".py",
   "mimetype": "text/x-python",
   "name": "python",
   "nbconvert_exporter": "python",
   "pygments_lexer": "ipython3",
   "version": "3.7.6"
  }
 },
 "nbformat": 4,
 "nbformat_minor": 4
}
